{
 "cells": [
  {
   "cell_type": "markdown",
   "metadata": {},
   "source": [
    "# Solution of the atom within LDA"
   ]
  },
  {
   "cell_type": "markdown",
   "metadata": {},
   "source": [
    "In this excercise we will solve the multielectron atom in LDA approximation.\n",
    "\n",
    "We will test it on He and oxygen by computing the total energy and charge density.\n",
    "\n",
    "We will plot charge density and compute the total energy, which will be compared to the reference data at NIST database:\n",
    "https://www.nist.gov/pml/atomic-reference-data-electronic-structure-calculations/atomic-reference-data-electronic-7\n",
    "\n",
    "\n"
   ]
  },
  {
   "cell_type": "markdown",
   "metadata": {},
   "source": [
    "We want to solve the Schroedinger equation for an atom with nucleous charge Z. We will approximate electron-electron interaction with an effective potential, which is computed by so-called ”local density approximation” (LDA). In this theory, the classical (Hartree) potential is treated exactly, while the rest of the interaction is ”approximated” by so called *local exchange-correlation functional*. We will not go into details of this functional, we will just use it here.\n",
    "\n"
   ]
  },
  {
   "cell_type": "markdown",
   "metadata": {},
   "source": [
    "\n",
    "The Schroedinger equation we are solving is\n",
    "\\begin{eqnarray}\n",
    "(-\\frac{\\hbar^2}{2m}\\nabla^2-\\frac{Z e^2}{4\\pi\\varepsilon_0 r} + V_H(r) + V_{xc}(r))\\psi(\\vec{r})=E \\psi(\\vec{r})\n",
    "\\end{eqnarray}\n",
    "\n",
    "The first two terms are appearing in Hydrogen problem, and we already coded them. The Hartree is the electrostatic potential, and the exchange-correlation potential has an approximate form, which depends only the charge density of the system. We will use the module `excor.py`, where the function $V_{xc}(\\rho)$ is tabulated. We will use it as $V_{xc}(r)== V_{xc}(\\rho(r))$, corresponding to the local density approximation."
   ]
  },
  {
   "cell_type": "markdown",
   "metadata": {},
   "source": [
    "First we take the code from the Hydrogen project and repeat."
   ]
  },
  {
   "cell_type": "code",
   "execution_count": 3,
   "metadata": {},
   "outputs": [
    {
     "ename": "OSError",
     "evalue": "Could not load shared object file: llvmlite.dll",
     "output_type": "error",
     "traceback": [
      "\u001b[1;31m---------------------------------------------------------------------------\u001b[0m",
      "\u001b[1;31mOSError\u001b[0m                                   Traceback (most recent call last)",
      "\u001b[1;32m<ipython-input-3-835e84bf6e04>\u001b[0m in \u001b[0;36m<module>\u001b[1;34m\u001b[0m\n\u001b[0;32m      4\u001b[0m \u001b[1;32mfrom\u001b[0m \u001b[0mnumpy\u001b[0m \u001b[1;32mimport\u001b[0m \u001b[1;33m*\u001b[0m\u001b[1;33m\u001b[0m\u001b[1;33m\u001b[0m\u001b[0m\n\u001b[0;32m      5\u001b[0m \u001b[1;32mfrom\u001b[0m \u001b[0mpylab\u001b[0m \u001b[1;32mimport\u001b[0m \u001b[1;33m*\u001b[0m\u001b[1;33m\u001b[0m\u001b[1;33m\u001b[0m\u001b[0m\n\u001b[1;32m----> 6\u001b[1;33m \u001b[1;32mfrom\u001b[0m \u001b[0mnumba\u001b[0m \u001b[1;32mimport\u001b[0m \u001b[0mjit\u001b[0m\u001b[1;33m\u001b[0m\u001b[1;33m\u001b[0m\u001b[0m\n\u001b[0m",
      "\u001b[1;32md:\\python\\lib\\site-packages\\numba\\__init__.py\u001b[0m in \u001b[0;36m<module>\u001b[1;34m\u001b[0m\n\u001b[0;32m     12\u001b[0m \u001b[1;32mdel\u001b[0m \u001b[0mget_versions\u001b[0m\u001b[1;33m\u001b[0m\u001b[1;33m\u001b[0m\u001b[0m\n\u001b[0;32m     13\u001b[0m \u001b[1;33m\u001b[0m\u001b[0m\n\u001b[1;32m---> 14\u001b[1;33m \u001b[1;32mfrom\u001b[0m \u001b[0mnumba\u001b[0m\u001b[1;33m.\u001b[0m\u001b[0mcore\u001b[0m \u001b[1;32mimport\u001b[0m \u001b[0mconfig\u001b[0m\u001b[1;33m\u001b[0m\u001b[1;33m\u001b[0m\u001b[0m\n\u001b[0m\u001b[0;32m     15\u001b[0m \u001b[1;32mfrom\u001b[0m \u001b[0mnumba\u001b[0m\u001b[1;33m.\u001b[0m\u001b[0mtesting\u001b[0m \u001b[1;32mimport\u001b[0m \u001b[0m_runtests\u001b[0m \u001b[1;32mas\u001b[0m \u001b[0mruntests\u001b[0m\u001b[1;33m\u001b[0m\u001b[1;33m\u001b[0m\u001b[0m\n\u001b[0;32m     16\u001b[0m \u001b[1;32mfrom\u001b[0m \u001b[0mnumba\u001b[0m\u001b[1;33m.\u001b[0m\u001b[0mcore\u001b[0m \u001b[1;32mimport\u001b[0m \u001b[0mtypes\u001b[0m\u001b[1;33m,\u001b[0m \u001b[0merrors\u001b[0m\u001b[1;33m\u001b[0m\u001b[1;33m\u001b[0m\u001b[0m\n",
      "\u001b[1;32md:\\python\\lib\\site-packages\\numba\\core\\config.py\u001b[0m in \u001b[0;36m<module>\u001b[1;34m\u001b[0m\n\u001b[0;32m     14\u001b[0m \u001b[1;33m\u001b[0m\u001b[0m\n\u001b[0;32m     15\u001b[0m \u001b[1;33m\u001b[0m\u001b[0m\n\u001b[1;32m---> 16\u001b[1;33m \u001b[1;32mimport\u001b[0m \u001b[0mllvmlite\u001b[0m\u001b[1;33m.\u001b[0m\u001b[0mbinding\u001b[0m \u001b[1;32mas\u001b[0m \u001b[0mll\u001b[0m\u001b[1;33m\u001b[0m\u001b[1;33m\u001b[0m\u001b[0m\n\u001b[0m\u001b[0;32m     17\u001b[0m \u001b[1;33m\u001b[0m\u001b[0m\n\u001b[0;32m     18\u001b[0m \u001b[0mIS_WIN32\u001b[0m \u001b[1;33m=\u001b[0m \u001b[0msys\u001b[0m\u001b[1;33m.\u001b[0m\u001b[0mplatform\u001b[0m\u001b[1;33m.\u001b[0m\u001b[0mstartswith\u001b[0m\u001b[1;33m(\u001b[0m\u001b[1;34m'win32'\u001b[0m\u001b[1;33m)\u001b[0m\u001b[1;33m\u001b[0m\u001b[1;33m\u001b[0m\u001b[0m\n",
      "\u001b[1;32md:\\python\\lib\\site-packages\\llvmlite\\binding\\__init__.py\u001b[0m in \u001b[0;36m<module>\u001b[1;34m\u001b[0m\n\u001b[0;32m      2\u001b[0m \u001b[0mThings\u001b[0m \u001b[0mthat\u001b[0m \u001b[0mrely\u001b[0m \u001b[0mon\u001b[0m \u001b[0mthe\u001b[0m \u001b[0mLLVM\u001b[0m \u001b[0mlibrary\u001b[0m\u001b[1;33m\u001b[0m\u001b[1;33m\u001b[0m\u001b[0m\n\u001b[0;32m      3\u001b[0m \"\"\"\n\u001b[1;32m----> 4\u001b[1;33m \u001b[1;32mfrom\u001b[0m \u001b[1;33m.\u001b[0m\u001b[0mdylib\u001b[0m \u001b[1;32mimport\u001b[0m \u001b[1;33m*\u001b[0m\u001b[1;33m\u001b[0m\u001b[1;33m\u001b[0m\u001b[0m\n\u001b[0m\u001b[0;32m      5\u001b[0m \u001b[1;32mfrom\u001b[0m \u001b[1;33m.\u001b[0m\u001b[0mexecutionengine\u001b[0m \u001b[1;32mimport\u001b[0m \u001b[1;33m*\u001b[0m\u001b[1;33m\u001b[0m\u001b[1;33m\u001b[0m\u001b[0m\n\u001b[0;32m      6\u001b[0m \u001b[1;32mfrom\u001b[0m \u001b[1;33m.\u001b[0m\u001b[0minitfini\u001b[0m \u001b[1;32mimport\u001b[0m \u001b[1;33m*\u001b[0m\u001b[1;33m\u001b[0m\u001b[1;33m\u001b[0m\u001b[0m\n",
      "\u001b[1;32md:\\python\\lib\\site-packages\\llvmlite\\binding\\dylib.py\u001b[0m in \u001b[0;36m<module>\u001b[1;34m\u001b[0m\n\u001b[0;32m      1\u001b[0m \u001b[1;32mfrom\u001b[0m \u001b[0mctypes\u001b[0m \u001b[1;32mimport\u001b[0m \u001b[0mc_void_p\u001b[0m\u001b[1;33m,\u001b[0m \u001b[0mc_char_p\u001b[0m\u001b[1;33m,\u001b[0m \u001b[0mc_bool\u001b[0m\u001b[1;33m,\u001b[0m \u001b[0mPOINTER\u001b[0m\u001b[1;33m\u001b[0m\u001b[1;33m\u001b[0m\u001b[0m\n\u001b[0;32m      2\u001b[0m \u001b[1;33m\u001b[0m\u001b[0m\n\u001b[1;32m----> 3\u001b[1;33m \u001b[1;32mfrom\u001b[0m \u001b[0mllvmlite\u001b[0m\u001b[1;33m.\u001b[0m\u001b[0mbinding\u001b[0m \u001b[1;32mimport\u001b[0m \u001b[0mffi\u001b[0m\u001b[1;33m\u001b[0m\u001b[1;33m\u001b[0m\u001b[0m\n\u001b[0m\u001b[0;32m      4\u001b[0m \u001b[1;32mfrom\u001b[0m \u001b[0mllvmlite\u001b[0m\u001b[1;33m.\u001b[0m\u001b[0mbinding\u001b[0m\u001b[1;33m.\u001b[0m\u001b[0mcommon\u001b[0m \u001b[1;32mimport\u001b[0m \u001b[0m_encode_string\u001b[0m\u001b[1;33m\u001b[0m\u001b[1;33m\u001b[0m\u001b[0m\n\u001b[0;32m      5\u001b[0m \u001b[1;33m\u001b[0m\u001b[0m\n",
      "\u001b[1;32md:\\python\\lib\\site-packages\\llvmlite\\binding\\ffi.py\u001b[0m in \u001b[0;36m<module>\u001b[1;34m\u001b[0m\n\u001b[0;32m    151\u001b[0m         \u001b[1;32mbreak\u001b[0m\u001b[1;33m\u001b[0m\u001b[1;33m\u001b[0m\u001b[0m\n\u001b[0;32m    152\u001b[0m \u001b[1;32melse\u001b[0m\u001b[1;33m:\u001b[0m\u001b[1;33m\u001b[0m\u001b[1;33m\u001b[0m\u001b[0m\n\u001b[1;32m--> 153\u001b[1;33m     \u001b[1;32mraise\u001b[0m \u001b[0mOSError\u001b[0m\u001b[1;33m(\u001b[0m\u001b[1;34m\"Could not load shared object file: {}\"\u001b[0m\u001b[1;33m.\u001b[0m\u001b[0mformat\u001b[0m\u001b[1;33m(\u001b[0m\u001b[0m_lib_name\u001b[0m\u001b[1;33m)\u001b[0m\u001b[1;33m)\u001b[0m\u001b[1;33m\u001b[0m\u001b[1;33m\u001b[0m\u001b[0m\n\u001b[0m\u001b[0;32m    154\u001b[0m \u001b[1;33m\u001b[0m\u001b[0m\n\u001b[0;32m    155\u001b[0m \u001b[1;33m\u001b[0m\u001b[0m\n",
      "\u001b[1;31mOSError\u001b[0m: Could not load shared object file: llvmlite.dll"
     ]
    }
   ],
   "source": [
    "from scipy import *\n",
    "from scipy import integrate\n",
    "from scipy import optimize\n",
    "from numpy import *\n",
    "from pylab import *\n",
    "from numba import jit"
   ]
  },
  {
   "cell_type": "code",
   "execution_count": 2,
   "metadata": {},
   "outputs": [
    {
     "ename": "NameError",
     "evalue": "name 'jit' is not defined",
     "output_type": "error",
     "traceback": [
      "\u001b[1;31m---------------------------------------------------------------------------\u001b[0m",
      "\u001b[1;31mNameError\u001b[0m                                 Traceback (most recent call last)",
      "\u001b[1;32m<ipython-input-2-028ce92a3533>\u001b[0m in \u001b[0;36m<module>\u001b[1;34m\u001b[0m\n\u001b[1;32m----> 1\u001b[1;33m \u001b[1;33m@\u001b[0m\u001b[0mjit\u001b[0m\u001b[1;33m(\u001b[0m\u001b[0mnopython\u001b[0m\u001b[1;33m=\u001b[0m\u001b[1;32mTrue\u001b[0m\u001b[1;33m)\u001b[0m\u001b[1;33m\u001b[0m\u001b[1;33m\u001b[0m\u001b[0m\n\u001b[0m\u001b[0;32m      2\u001b[0m \u001b[1;32mdef\u001b[0m \u001b[0mNumerov\u001b[0m\u001b[1;33m(\u001b[0m\u001b[0mf\u001b[0m\u001b[1;33m,\u001b[0m \u001b[0mx0\u001b[0m\u001b[1;33m,\u001b[0m \u001b[0mdx\u001b[0m\u001b[1;33m,\u001b[0m \u001b[0mdh\u001b[0m\u001b[1;33m)\u001b[0m\u001b[1;33m:\u001b[0m\u001b[1;33m\u001b[0m\u001b[1;33m\u001b[0m\u001b[0m\n\u001b[0;32m      3\u001b[0m     \"\"\" Given precumputed function f(x) solved the differential equation\n\u001b[0;32m      4\u001b[0m         \u001b[0mx\u001b[0m\u001b[1;34m''\u001b[0m\u001b[1;33m(\u001b[0m\u001b[0mt\u001b[0m\u001b[1;33m)\u001b[0m \u001b[1;33m=\u001b[0m \u001b[0mf\u001b[0m\u001b[1;33m(\u001b[0m\u001b[0mt\u001b[0m\u001b[1;33m)\u001b[0m \u001b[0mx\u001b[0m\u001b[1;33m(\u001b[0m\u001b[0mt\u001b[0m\u001b[1;33m)\u001b[0m\u001b[1;33m\u001b[0m\u001b[1;33m\u001b[0m\u001b[0m\n\u001b[0;32m      5\u001b[0m         \u001b[0minput\u001b[0m\u001b[1;33m:\u001b[0m \u001b[0mx0\u001b[0m \u001b[1;33m=\u001b[0m \u001b[0mx\u001b[0m\u001b[1;33m(\u001b[0m\u001b[0mt\u001b[0m\u001b[1;33m=\u001b[0m\u001b[1;36m0\u001b[0m\u001b[1;33m)\u001b[0m\u001b[1;33m,\u001b[0m \u001b[1;32mand\u001b[0m \u001b[0mdx\u001b[0m \u001b[1;33m=\u001b[0m \u001b[0mdx\u001b[0m\u001b[1;33m/\u001b[0m\u001b[0mdt\u001b[0m\u001b[1;33m(\u001b[0m\u001b[0mt\u001b[0m\u001b[1;33m=\u001b[0m\u001b[1;36m0\u001b[0m\u001b[1;33m)\u001b[0m\u001b[1;33m\u001b[0m\u001b[1;33m\u001b[0m\u001b[0m\n",
      "\u001b[1;31mNameError\u001b[0m: name 'jit' is not defined"
     ]
    }
   ],
   "source": [
    "@jit(nopython=True)\n",
    "def Numerov(f, x0, dx, dh):\n",
    "    \"\"\" Given precumputed function f(x) solved the differential equation\n",
    "        x''(t) = f(t) x(t)\n",
    "        input: x0 = x(t=0), and dx = dx/dt(t=0)\n",
    "    \"\"\"\n",
    "    x = zeros(len(f))\n",
    "    x[0] = x0\n",
    "    x[1] = x0 + dh*dx\n",
    "    h2 = dh**2\n",
    "    h12 = h2/12.\n",
    "    w0 = x0*(1-h12*f[0])\n",
    "    w1 = x[1]*(1-h12*f[1])\n",
    "    xi = x[1]\n",
    "    fi = f[1]\n",
    "    for i in range(2,len(f)):\n",
    "        w2 = 2*w1-w0 + h2*fi*xi\n",
    "        fi = f[i]\n",
    "        xi = w2/(1-h12*fi)\n",
    "        x[i]=xi\n",
    "        (w0,w1) = (w1,w2)\n",
    "    return x\n",
    "\n",
    "@jit(nopython=True)\n",
    "def fShrod(En,l,R):\n",
    "    return l*(l+1.)/R**2 - 2./R - En\n",
    "\n",
    "def ComputeSchrod(En, R, l):\n",
    "    f = fShrod(En,l,R[::-1])\n",
    "    ur = Numerov(f, 0.0, -1e-7, -R[1]+R[0])[::-1]\n",
    "    norm = integrate.simps(ur**2, x=R)\n",
    "    return ur/sqrt(abs(norm))\n",
    "    \n",
    "def Shoot(En, R, l):\n",
    "    ur = ComputeSchrod(En, R, l)\n",
    "    ur = ur/R**l  # expecting urn \\propto R\n",
    "    f0,f1 = ur[0],ur[1]\n",
    "    f_at_0 = f0 + (f1-f0)*(0-R[0])/(R[1]-R[0]) # extrapolation to zero\n",
    "    return f_at_0\n",
    "\n",
    "def FindBoundStates(R, l, nmax, Esearch):\n",
    "    n=0\n",
    "    Ebnd=[]\n",
    "    u0 = Shoot(Esearch[0],R,l)\n",
    "    for i in range(1,len(Esearch)):\n",
    "        u1 = Shoot(Esearch[i],R,l)\n",
    "        if u0*u1 < 0:\n",
    "            #print 'Sign change at', Esearch[i-1], Esearch[i]\n",
    "            Ebound = optimize.brentq(Shoot,Esearch[i-1],Esearch[i],xtol=1e-15,args=(R,l))\n",
    "            Ebnd.append( (l,Ebound) )\n",
    "            if len(Ebnd)>nmax: break\n",
    "            n += 1\n",
    "            print('Found bound state at E=%14.9f' % Ebound)\n",
    "        u0 = u1\n",
    "    return Ebnd \n",
    "\n",
    "def cmpKey(x):\n",
    "    return x[1]*1000 + x[0]  # energy has large wait, but degenerate energy states are sorted by l\n",
    "\n",
    "def ChargeDensity(Bnd,R,Z):\n",
    "    rho = zeros(len(R))\n",
    "    N=0.\n",
    "    for (l,En) in Bnd:\n",
    "        ur = ComputeSchrod(En, R, l)\n",
    "        dN = 2*(2*l+1)\n",
    "        if N+dN <= Z:\n",
    "            ferm = 1.\n",
    "        else:\n",
    "            ferm = (Z-N)/float(dN)\n",
    "        drho = ur**2 * ferm * dN/(4*pi*R**2)\n",
    "        rho += drho\n",
    "        N += dN\n",
    "        print('adding state', (l,En), 'with fermi=', ferm)\n",
    "        if  N>=Z: break\n",
    "    return rho"
   ]
  },
  {
   "cell_type": "code",
   "execution_count": 3,
   "metadata": {},
   "outputs": [
    {
     "name": "stdout",
     "output_type": "stream",
     "text": [
      "Found bound state at E=  -0.999922109\n",
      "Found bound state at E=  -0.249990190\n",
      "Found bound state at E=  -0.111108201\n",
      "Found bound state at E=  -0.062498772\n",
      "Found bound state at E=  -0.039999314\n",
      "Found bound state at E=  -0.250000016\n",
      "Found bound state at E=  -0.111111117\n",
      "Found bound state at E=  -0.062500003\n",
      "Found bound state at E=  -0.039999959\n",
      "Found bound state at E=  -0.111111111\n",
      "Found bound state at E=  -0.062500000\n",
      "Found bound state at E=  -0.039999977\n",
      "Found bound state at E=  -0.062500000\n",
      "Found bound state at E=  -0.039999992\n",
      "adding state (0, -0.9999221089559623) with fermi= 1.0\n",
      "adding state (0, -0.24999019020653063) with fermi= 1.0\n",
      "adding state (1, -0.25000001561170354) with fermi= 1.0\n",
      "adding state (0, -0.11110820082299863) with fermi= 1.0\n",
      "adding state (1, -0.11111111678092336) with fermi= 1.0\n",
      "adding state (2, -0.11111111114690274) with fermi= 1.0\n"
     ]
    },
    {
     "data": {
      "image/png": "[encoded data removed]",
      "text/plain": [
       "<Figure size 432x288 with 1 Axes>"
      ]
     },
     "metadata": {
      "needs_background": "light"
     },
     "output_type": "display_data"
    }
   ],
   "source": [
    "%matplotlib inline\n",
    "\n",
    "Esearch = -1.2/arange(1,20,0.2)**2\n",
    "R = linspace(1e-8,100,2000)\n",
    "\n",
    "Z=28\n",
    "nmax = 5\n",
    "Bnd=[]\n",
    "for l in range(nmax-1):\n",
    "    Bnd += FindBoundStates(R,l,nmax-l,Esearch)\n",
    "Bnd = sorted(Bnd, key=cmpKey)\n",
    "\n",
    "z = 28. # like Ni atom\n",
    "\n",
    "rho = ChargeDensity(Bnd,R,Z)\n",
    "        \n",
    "plot(R, rho*(4*pi*R**2), label='charge density')\n",
    "xlim([0,25])\n",
    "legend(loc='best')\n",
    "show()"
   ]
  },
  {
   "cell_type": "markdown",
   "metadata": {},
   "source": [
    "## Hartree term\n",
    "\n",
    "The Hartree term is treated exactly in this approximation. \n",
    "\n",
    "It describes the electrostatic\n",
    "interaction of one electron with the cloud of all electrons (including the electron itself).\n",
    "Mathematically, this term is\n",
    "\\begin{eqnarray}\n",
    "&&   \\frac{1}{2}\\int d\\vec{r} d\\vec{r}' \\psi^\\dagger (\\vec{r})\\psi^\\dagger (\\vec{r}')\n",
    "   v_c(\\vec{r}-\\vec{r}') \\psi(\\vec{r}')\\psi(\\vec{r}) \\rightarrow\\\\\n",
    "&&   \\int d\\vec{r} \\psi^\\dagger(\\vec{r}) \\psi(\\vec{r}) \\int d\\vec{r}'\n",
    "   \\langle\\psi^\\dagger(\\vec{r}') \\psi(\\vec{r}')\\rangle v_c(\\vec{r}-\\vec{r}') \\equiv\n",
    "   \\int d\\vec{r} \\psi^\\dagger(\\vec{r}) V_{H}(\\vec{r}) \\psi(\\vec{r})\\nonumber\n",
    " \\end{eqnarray}\n",
    " with\n",
    " \\begin{equation}\n",
    " V_H(\\vec{r}) = 2 \\int d\\vec{r}' \\frac{\\rho(\\vec{r}')}{|\\vec{r}-\\vec{r}'|}\n",
    " \\end{equation}\n",
    "where $2$ is due to Rydberg units sinc $v_c = 2/r$.\n",
    "\n",
    "\n",
    "For any atom, the electron density is\n",
    "spherically symetric and hence $V_{H}$ depends only on radial\n",
    "distance. (In solids, the hartree potential should be expanded in\n",
    "spheric harmonics to sufficiently high $l$, maybe $l=6$)."
   ]
  },
  {
   "cell_type": "markdown",
   "metadata": {},
   "source": [
    "### Step 1: Using $\\rho(r)$ computed in previous homework, compute the Hartree potential.\n",
    "\n",
    "This is usually achieved by solving the Poisson equation. From\n",
    "clasical electrostatic we know\n",
    "\\begin{eqnarray}\n",
    "  \\nabla^2 V_{H}(\\vec{r}) = -8\\pi \\rho(\\vec{r})\n",
    "\\end{eqnarray}\n",
    "In Hartree approximation, we have\n",
    "\\begin{equation}\n",
    "\\frac{1}{r^2}\\frac{d}{dr}(r^2 \\frac{d V_H}{dr})= -8\\pi\\rho(r)  \n",
    "\\end{equation}\n",
    "which simplifies to\n",
    "\\begin{equation}\n",
    "  U^{''}(r) = -8\\pi r \\rho(r)\n",
    "\\end{equation}\n",
    "where $U(r) = V_{H}(r) r$.\n",
    "\n",
    "This second order differential equation has the following boundary\n",
    "conditions $U(0)=0$ and $U(\\infty)=2 Z$.\n",
    "\n",
    "The two point boundary problem does not require shooting because we\n",
    "know solution to the homogenous differential equation\n",
    "$U^{''}(r)=0$. The Hartree potential can be obtained from any\n",
    "particular solution by\n",
    "\\begin{equation}\n",
    "  U(r) = U_p(r) + \\alpha r\n",
    "\\end{equation}\n",
    "where $\\alpha = \\lim_{r\\rightarrow\\infty}(2 Z-U_{p}(r))/r$.\n"
   ]
  },
  {
   "cell_type": "code",
   "execution_count": 4,
   "metadata": {},
   "outputs": [],
   "source": [
    "def FuncForHartree(y,r,rhoSpline):\n",
    "    \"\"\" y = [U,U']\n",
    "        dy/dr = [U', -8*pi*r*rho(r)]\n",
    "    \"\"\"\n",
    "    return [y[1], -8*pi*r*rhoSpline(r)]"
   ]
  },
  {
   "cell_type": "code",
   "execution_count": 5,
   "metadata": {},
   "outputs": [
    {
     "data": {
      "image/png": "[encoded data removed]",
      "text/plain": [
       "<Figure size 432x288 with 1 Axes>"
      ]
     },
     "metadata": {
      "needs_background": "light"
     },
     "output_type": "display_data"
    }
   ],
   "source": [
    "from scipy import interpolate\n",
    "\n",
    "rhoSpline = interpolate.UnivariateSpline(R, rho,s=0)\n",
    "\n",
    "U0 = integrate.odeint(FuncForHartree, [0.0,0.5], R, args=(rhoSpline,))[:,0]\n",
    "alpha = (2*Z - U0[-1])/R[-1]\n",
    "U0 += alpha * R\n",
    "\n",
    "plot(R, U0)\n",
    "plot(R, ones(len(R))*2*Z)\n",
    "show()"
   ]
  },
  {
   "cell_type": "markdown",
   "metadata": {},
   "source": [
    "## Numerov again\n",
    "\n",
    "Poisson equation does not have the first order derivative, hence it can also be more efficiently solved by the Numerov algorithm.\n",
    "\n",
    "We have Poisson equation, which has the form\n",
    "\\begin{equation}\n",
    "x^{''}(t)= u(t)\n",
    "\\end{equation}\n",
    "and the Numerov algorithm, as appropriate for the Poisson equation, is\n",
    "\\begin{eqnarray}\n",
    "  x(h)+x(-h) = 2x(0)+h^2 u(0)+\\frac{2}{4!}h^4 x^{(4)}(0)+O(h^6)\n",
    "\\end{eqnarray}\n",
    "and the approximation for the forth order derivative is\n",
    "\\begin{equation}\n",
    "  x^{(4)}\\sim \\frac{u_{i+1}-2 u_i+u_{i-1}}{h^2}\n",
    "\\end{equation}\n",
    "\n",
    "Inserting the fourth order derivative into the above recursive equation (forth equation in his chapter), we\n",
    "get\n",
    "\n",
    "\\begin{equation}\n",
    "  x_{i+1}-2 x_i+x_{i-1}=h^2 u_i +\\frac{h^2}{12}(u_{i+1}-2 u_i+u_{i-1})\n",
    "\\end{equation}\n",
    "\n",
    "If we switch to a new variable $w_i=x_i-\\frac{h^2}{12}u_i$\n",
    "we are left with the following\n",
    "equation\n",
    "\n",
    "\\begin{equation}\n",
    "  w_{i+1} -2 w_i + w_{i-1} = h^2 u_i+O(h^6)\n",
    "\\end{equation}\n",
    "\n",
    "The variable $x$ needs to be recomputed at each step with\n",
    "$x_i=(w_i+\\frac{h^2}{12}u_i)$.\n"
   ]
  },
  {
   "cell_type": "code",
   "execution_count": 6,
   "metadata": {},
   "outputs": [],
   "source": [
    "@jit(nopython=True)\n",
    "def NumerovUP(U, x0, dx, dh):\n",
    "    x = zeros(len(U))\n",
    "    x[0] = x0\n",
    "    x[1] = dh*dh + x0\n",
    "    h2 = dh*dh\n",
    "    h12 = h2/12\n",
    "    w0 = x[0]-h12*U[0]\n",
    "    w1 = x[1]-h12*U[1]\n",
    "    Ui = U[1]\n",
    "    for i in range(2,len(U)):\n",
    "        w2 = 2*w1 - w0 + h2*Ui\n",
    "        Ui = U[i]\n",
    "        xi = w2 + h12*Ui\n",
    "        x[i] = xi\n",
    "        w0, w1 = w1, w2\n",
    "    return x"
   ]
  },
  {
   "cell_type": "code",
   "execution_count": 7,
   "metadata": {},
   "outputs": [],
   "source": [
    "ux = -8*pi*R*rho\n",
    "U2 = NumerovUP(ux, 0.0, 0.5, R[1]-R[0])\n",
    "alpha2 = (2*Z-U2[-1])/R[-1]\n",
    "U2 += alpha2 * R"
   ]
  },
  {
   "cell_type": "code",
   "execution_count": 8,
   "metadata": {},
   "outputs": [
    {
     "data": {
      "image/png": "[encoded data removed]",
      "text/plain": [
       "<Figure size 432x288 with 1 Axes>"
      ]
     },
     "metadata": {
      "needs_background": "light"
     },
     "output_type": "display_data"
    }
   ],
   "source": [
    "plot(R,U0)\n",
    "plot(R,U2);"
   ]
  },
  {
   "cell_type": "markdown",
   "metadata": {},
   "source": [
    "### Step1 routine HartreeU  \n",
    "For generic density the following routine will work:"
   ]
  },
  {
   "cell_type": "code",
   "execution_count": 9,
   "metadata": {},
   "outputs": [],
   "source": [
    "def HartreeU(R, rho, Zatom):\n",
    "    \"\"\"Given input charge density it returns Hartree potential in the form VH(r)*r\n",
    "    \"\"\"\n",
    "    ux = -8*pi*R*rho\n",
    "    U2 = NumerovUP(ux, 0.0, 0.5, R[1]-R[0])\n",
    "    alpha2 = (2*Zatom-U2[-1])/R[-1]\n",
    "    U2 += alpha2 * R\n",
    "    return U2"
   ]
  },
  {
   "cell_type": "code",
   "execution_count": 10,
   "metadata": {},
   "outputs": [
    {
     "data": {
      "image/png": "[encoded data removed]",
      "text/plain": [
       "<Figure size 432x288 with 1 Axes>"
      ]
     },
     "metadata": {
      "needs_background": "light"
     },
     "output_type": "display_data"
    }
   ],
   "source": [
    "U2 = HartreeU(R,rho,Z)\n",
    "plot(R,U2);"
   ]
  },
  {
   "cell_type": "markdown",
   "metadata": {},
   "source": [
    "### Step 2 : Compute the exchange correlation potential.\n",
    "   \n",
    "Note that $V_{xc}(r)=V_{xc}(\\rho(r))$ is unquely determined by the electron charge density $\\rho(r)$. If we know $\\rho$, we can instantly compute $V_{xc}$ by the module provided parametrized function.\n",
    "   \n",
    "\n",
    "Download the module `excor.py` from\n",
    "http://www.physics.rutgers.edu/~haule/509/src_prog/python/homework5/\n",
    "and import it in your code.\n",
    "\n",
    "\n",
    "Instantiate the ExchangeCorrelation object by\n",
    "\n",
    "`exc = ExchangeCorrelation()`\n",
    "\n",
    "and used it, for example, by\n",
    "\n",
    "`exc.Vx(rs(rho[i]))+exc.Vc(rs(rho[i]))`\n",
    "\n",
    "where $r_s = ({4\\pi\\rho/3})^{-1/3}$.\n",
    "\n",
    "Be careful: The energy unit in \"excor.py\" is Hartree and not\n",
    "Rydergs. Hence, you need to multiply energy or potential by 2.\n",
    "\n"
   ]
  },
  {
   "cell_type": "code",
   "execution_count": 11,
   "metadata": {},
   "outputs": [],
   "source": [
    "from excor import ExchangeCorrelation\n",
    "exc = ExchangeCorrelation()\n",
    "\n",
    "@jit(nopython=True)\n",
    "def rs(rho):\n",
    "    \"1/rho = 4*pi*rs^3/3 => rs = (3/(4*pi*rho))**(1/3.)\"\n",
    "    if rho < 1e-100: return 1e100\n",
    "    return pow(3/(4*pi*rho),1/3.)"
   ]
  },
  {
   "cell_type": "code",
   "execution_count": 12,
   "metadata": {},
   "outputs": [
    {
     "data": {
      "image/png": "[encoded data removed]",
      "text/plain": [
       "<Figure size 432x288 with 1 Axes>"
      ]
     },
     "metadata": {
      "needs_background": "light"
     },
     "output_type": "display_data"
    }
   ],
   "source": [
    "Vxc = [2*exc.Vc(rs(rh)) + 2*exc.Vx(rs(rh)) for rh in rho]    \n",
    "\n",
    "Uks = U2 - 2*Z + Vxc*R\n",
    "\n",
    "plot(R, -Uks/2);"
   ]
  },
  {
   "cell_type": "markdown",
   "metadata": {},
   "source": [
    "\n",
    "### Step 3: Find bound states using Hartree and XC potential.\n",
    "\n",
    "Add the Hartree potential and the exchange-correlation potential to the Schroedinger equation and find\n",
    "  bound states of the atom.\n",
    "\n",
    "The Schroedinger equation is\n",
    " \\begin{equation}\n",
    "   u^{''}(r) = \\left(\\frac{l(l+1)}{r^2}-\\frac{2 Z}{r} + V_{H}(r)+V_{XC}(r)-\\varepsilon\\right)u(r).\n",
    " \\end{equation}\n",
    "or\n",
    "  \\begin{equation}\n",
    "   u^{''}(r) = \\left(\\frac{l(l+1)}{r^2}+\\frac{U_H - 2 Z +r V_{XC}}{r}-\\varepsilon\\right)u(r).\n",
    " \\end{equation}"
   ]
  },
  {
   "cell_type": "code",
   "execution_count": 13,
   "metadata": {},
   "outputs": [],
   "source": [
    "@jit(nopython=True)\n",
    "def fShrod(En,l,R, Uks):\n",
    "    return (l*(l+1.)/R +Uks)/R - En\n",
    "\n",
    "def ComputeSchrod(En, R, l,Uks):\n",
    "    f = fShrod(En,l,R[::-1],Uks[::-1])\n",
    "    ur = Numerov(f, 0.0, -1e-10, R[0]-R[1])[::-1]\n",
    "    norm = integrate.simps(ur**2, x=R)\n",
    "    return ur/sqrt(abs(norm))\n",
    "\n",
    "def Shoot(En, R, l, Uks):\n",
    "    ur = ComputeSchrod(En, R, l,Uks)\n",
    "    ur *= 1/R**l  # expecting urn \\propto R\n",
    "    #f0,f1 = ur[0],ur[1]\n",
    "    #f_at_0 = f0 + (f1-f0)*(0-R[0])/(R[1]-R[0]) # extrapolation to zero\n",
    "    #return f_at_0\n",
    "    poly = polyfit(R[:4], ur[:4], deg=3)\n",
    "    return polyval(poly, 0.0)"
   ]
  },
  {
   "cell_type": "code",
   "execution_count": 14,
   "metadata": {},
   "outputs": [],
   "source": [
    "def FindBoundStates(R, l, nmax, Esearch, Uks):\n",
    "    n=0\n",
    "    Ebnd=[]\n",
    "    u0 = Shoot(Esearch[0],R,l,Uks)\n",
    "    for i in range(1,len(Esearch)):\n",
    "        u1 = Shoot(Esearch[i],R,l,Uks)\n",
    "        if u0*u1 < 0:\n",
    "            Ebound = optimize.brentq(Shoot,Esearch[i-1],Esearch[i],xtol=1e-15,args=(R,l,Uks))\n",
    "            Ebnd.append( (l,Ebound) )\n",
    "            if len(Ebnd)>nmax: break\n",
    "            n += 1\n",
    "            print('Found bound state at E=%14.9f' % Ebound)\n",
    "        u0 = u1\n",
    "    return Ebnd "
   ]
  },
  {
   "cell_type": "code",
   "execution_count": 15,
   "metadata": {},
   "outputs": [
    {
     "name": "stdout",
     "output_type": "stream",
     "text": [
      "Found bound state at E=  -0.602399771\n",
      "Found bound state at E=  -0.228625340\n",
      "Found bound state at E=  -0.068176961\n",
      "Found bound state at E=  -0.007230646\n",
      "Found bound state at E=  -0.627631952\n",
      "Found bound state at E=  -0.237253895\n",
      "Found bound state at E=  -0.069506222\n",
      "Found bound state at E=  -0.006696259\n",
      "Found bound state at E=  -0.600054532\n",
      "Found bound state at E=  -0.217328795\n",
      "Found bound state at E=  -0.057702238\n",
      "Found bound state at E=  -0.558268878\n",
      "Found bound state at E=  -0.187465773\n"
     ]
    }
   ],
   "source": [
    "#R = linspace(1e-8,10,2**13+1)\n",
    "#Zatom = 8\n",
    "#E0=-1.2*Zatom**2\n",
    "#Eshift=0.5 # sometimes energies can be positive!!!                                                                                                                        \n",
    "#Esearch = -logspace(-4,log10(-E0+Eshift),200)[::-1] + Eshift\n",
    "\n",
    "\n",
    "Bnd=[]\n",
    "for l in range(nmax-1):\n",
    "    Bnd += FindBoundStates(R,l,nmax-l,Esearch,Uks)\n",
    "    \n",
    "Bnd = sorted(Bnd, key=cmpKey)"
   ]
  },
  {
   "cell_type": "markdown",
   "metadata": {},
   "source": [
    "\n",
    "### Step 4: Compute the new electron density\n",
    "by filling the lowest $Z$  eigenstatates."
   ]
  },
  {
   "cell_type": "code",
   "execution_count": 16,
   "metadata": {},
   "outputs": [],
   "source": [
    "# This is modified from Hydrogen\n",
    "def ChargeDensity(bst,R,Zatom,Uks):\n",
    "    rho = zeros(len(R))\n",
    "    N=0.\n",
    "    Ebs=0.\n",
    "    for (l,En) in bst:\n",
    "        ur = ComputeSchrod(En, R, l, Uks)\n",
    "        dN = 2*(2*l+1)\n",
    "        if N+dN <= Zatom:\n",
    "            ferm = 1.\n",
    "        else:\n",
    "            ferm = (Zatom-N)/float(dN)\n",
    "        drho = ur**2 * ferm * dN/(4*pi*R**2)\n",
    "        rho += drho\n",
    "        N += dN\n",
    "        Ebs += En * dN * ferm\n",
    "        print('adding state', (l,En/2), 'H with fermi=', ferm)\n",
    "        if  N>=Zatom: break\n",
    "    return (rho,Ebs)"
   ]
  },
  {
   "cell_type": "code",
   "execution_count": 17,
   "metadata": {},
   "outputs": [
    {
     "name": "stdout",
     "output_type": "stream",
     "text": [
      "adding state (1, -0.31381597607349987) H with fermi= 1.0\n",
      "adding state (0, -0.3011998855534427) H with fermi= 1.0\n",
      "adding state (2, -0.3000272661852965) H with fermi= 1.0\n",
      "adding state (3, -0.2791344391746787) H with fermi= 0.7142857142857143\n"
     ]
    }
   ],
   "source": [
    "rho_new, Ebs = ChargeDensity(Bnd,R,Z,Uks)"
   ]
  },
  {
   "cell_type": "markdown",
   "metadata": {},
   "source": [
    "### Step 5: Admix the new and the old density \n",
    "(50\\% of the old and 50\\%  of the new should work) and use the resulting density to compute the  new Hartree and exchange-correlation potential.\n",
    "\n",
    "### Iterate Steps 1 to Step 5 until self-consistency is achieved."
   ]
  },
  {
   "cell_type": "markdown",
   "metadata": {},
   "source": [
    "For oxygen, the total energy in this implementation is : -74.47303426133809 Hartree, while NIST shows -74.473077 Hartree. This is in excellent agreement. The small loss of accuracy is mainly due to the mesh used for R."
   ]
  },
  {
   "cell_type": "markdown",
   "metadata": {},
   "source": [
    "### Evaluate the total energy\n",
    "\n",
    "Once we see that the code converges, we can insert a new step\n",
    "betwen *Step 4* and *Step 5* to compute the total energy of\n",
    "the system. The total energy can be obtained by\n",
    "\\begin{eqnarray}\n",
    "E^{LDA}_{total} &=& \\sum_{i\\in occupied}\\int d\\vec{r}\n",
    "\\psi_i^*(\\vec{r})[-\\nabla^2]\\psi_i(\\vec{r}) +\\nonumber\\\\\n",
    " &+& \\int d\\vec{r} \\rho(\\vec{r}) [V_{nucleous}(\\vec{r})+\\epsilon_H(\\vec{r}) +\n",
    "   \\epsilon_{XC}(\\vec{r})]\\nonumber\\\\\n",
    " &=& \\sum_{i\\in occupied}\\int d\\vec{r}\n",
    "\\psi_i^*(\\vec{r})[-\\nabla^2+V_{nucleous}+V_H+V_{XC}]\\psi_i(\\vec{r})\n",
    " \\nonumber\\\\\n",
    " &+& \\int d\\vec{r} \\rho(\\vec{r}) [\\epsilon_H(\\vec{r})-V_H(\\vec{r}) +\n",
    "   \\epsilon_{XC}(\\vec{r})-V_{XC}(\\vec{r})]\\nonumber\\\\\n",
    " &=& \\sum_{i\\in occupied}\\epsilon_i + \\int d\\vec{r} \\rho(\\vec{r}) [\\epsilon_H(\\vec{r})-V_H(\\vec{r}) +\n",
    "   \\epsilon_{XC}(\\vec{r})-V_{XC}(\\vec{r})]\\nonumber\\\\\n",
    " &=& \\sum_{i\\in occupied}\\epsilon_i + \\int d\\vec{r} \\rho(\\vec{r}) [-\\epsilon_H(\\vec{r}) +\n",
    "   \\epsilon_{XC}(\\vec{r})-V_{XC}(\\vec{r})]\n",
    "\\end{eqnarray}\n",
    "Here we used\n",
    "\\begin{eqnarray}\n",
    "&& E_y[\\rho] \\equiv \\int d\\vec{r}\\; \\rho(\\vec{r})\\; \\epsilon_y[\\rho(\\vec{r})]\\\\\n",
    "&& V_y[\\rho]\\equiv \\frac{\\delta E_y[\\rho]}{\\delta \\rho(\\vec{r})}\n",
    "\\end{eqnarray}\n",
    "where $y$ is one of $H$, $x$ or $c$. \n",
    "\n",
    "Hence\n",
    "\\begin{eqnarray}\n",
    "\\epsilon_H(\\vec{r}) = \\frac{1}{2} V_H(\\vec{r})  = \\frac{1}{2} \\frac{U_H(\\vec{r})}{r}\n",
    "\\end{eqnarray}\n",
    "because\n",
    "\\begin{equation}\n",
    "E_H = \\int d\\vec{r} d\\vec{r}' \\frac{\\rho(\\vec{r})\\rho(\\vec{r}')}{|\\vec{r}-\\vec{r}'|}\n",
    "\\end{equation}\n",
    "\n",
    "The exchange-correlation energy can be obtained by a call to the\n",
    " method of \\textit{ExchangeCorrelation} object.\n"
   ]
  },
  {
   "cell_type": "code",
   "execution_count": 18,
   "metadata": {},
   "outputs": [
    {
     "data": {
      "text/plain": [
       "(-1.0, 1.0)"
      ]
     },
     "execution_count": 18,
     "metadata": {},
     "output_type": "execute_result"
    },
    {
     "data": {
      "image/png": "[encoded data removed]",
      "text/plain": [
       "<Figure size 432x288 with 1 Axes>"
      ]
     },
     "metadata": {
      "needs_background": "light"
     },
     "output_type": "display_data"
    }
   ],
   "source": [
    "Zatom=8\n",
    "E0=-1.2*Zatom**2\n",
    "Eshift=0.5 # sometimes energies can be positive!!!                                                                                                                        \n",
    "Esearch = -logspace(-4,log10(-E0+Eshift),200)[::-1] + Eshift\n",
    "plot(Esearch,'o-')\n",
    "ylim([-1,1])"
   ]
  },
  {
   "cell_type": "code",
   "execution_count": 19,
   "metadata": {},
   "outputs": [
    {
     "name": "stdout",
     "output_type": "stream",
     "text": [
      "Found bound state at E=  -1.000000000\n",
      "Found bound state at E=  -0.249974229\n",
      "Found bound state at E=  -0.099836095\n",
      "Found bound state at E=  -0.249989213\n",
      "Found bound state at E=  -0.103222840\n",
      "adding state (0, -0.5000000000000026) H with fermi= 1.0\n",
      "adding state (0, -0.12498711431297782) H with fermi= 1.0\n",
      "adding state (1, -0.12499460664692974) H with fermi= 0.6666666666666666\n",
      "Total density has weight 8.0\n",
      "Itteration 0 Etot[Ry]= -16.72605139958573 Etot[Hartre]= -8.363025699792866 Diff= 16.72605139958573\n",
      "Found bound state at E= -58.810318070\n",
      "Found bound state at E= -11.072182717\n",
      "Found bound state at E=  -2.936052943\n",
      "Found bound state at E= -10.979642529\n",
      "Found bound state at E=  -2.847650119\n",
      "adding state (0, -29.40515903509979) H with fermi= 1.0\n",
      "adding state (0, -5.536091358653621) H with fermi= 1.0\n",
      "adding state (1, -5.489821264416604) H with fermi= 0.6666666666666666\n",
      "Total density has weight 8.0\n",
      "Itteration 1 Etot[Ry]= -224.73766490907386 Etot[Hartre]= -112.36883245453693 Diff= 208.01161350948811\n",
      "Found bound state at E= -44.840026005\n",
      "Found bound state at E=  -4.699936090\n",
      "Found bound state at E=  -0.778811713\n",
      "Found bound state at E=  -3.685736952\n",
      "Found bound state at E=  -0.547793268\n",
      "adding state (0, -22.420013002291636) H with fermi= 1.0\n",
      "adding state (0, -2.3499680449095552) H with fermi= 1.0\n",
      "adding state (1, -1.8428684758271663) H with fermi= 0.6666666666666666\n",
      "Total density has weight 8.0\n",
      "Itteration 2 Etot[Ry]= -173.90640224411695 Etot[Hartre]= -86.95320112205847 Diff= 50.83126266495691\n",
      "Found bound state at E= -39.330036458\n",
      "Found bound state at E=  -2.527354738\n",
      "Found bound state at E=  -0.267077466\n",
      "Found bound state at E=  -1.415419295\n",
      "Found bound state at E=  -0.130982658\n",
      "adding state (0, -19.66501822876814) H with fermi= 1.0\n",
      "adding state (0, -1.2636773690170784) H with fermi= 1.0\n",
      "adding state (1, -0.7077096477283258) H with fermi= 0.6666666666666666\n",
      "Total density has weight 8.0\n",
      "Itteration 3 Etot[Ry]= -154.6946219768114 Etot[Hartre]= -77.3473109884057 Diff= 19.211780267305556\n",
      "Found bound state at E= -38.051551645\n",
      "Found bound state at E=  -1.994459017\n",
      "Found bound state at E=  -0.139164857\n",
      "Found bound state at E=  -0.907351162\n",
      "Found bound state at E=  -0.050735863\n",
      "adding state (0, -19.025775822509868) H with fermi= 1.0\n",
      "adding state (0, -0.9972295084059034) H with fermi= 1.0\n",
      "adding state (1, -0.4536755811747082) H with fermi= 0.6666666666666666\n",
      "Total density has weight 7.999999999999999\n",
      "Itteration 4 Etot[Ry]= -150.23794036808613 Etot[Hartre]= -75.11897018404306 Diff= 4.456681608725262\n",
      "Found bound state at E= -37.776639816\n",
      "Found bound state at E=  -1.866434817\n",
      "Found bound state at E=  -0.088862327\n",
      "Found bound state at E=  -0.790673332\n",
      "Found bound state at E=  -0.019760826\n",
      "adding state (0, -18.888319908206316) H with fermi= 1.0\n",
      "adding state (0, -0.933217408322493) H with fermi= 1.0\n",
      "adding state (1, -0.39533666614678353) H with fermi= 0.6666666666666666\n",
      "Total density has weight 7.999999999999999\n",
      "Itteration 5 Etot[Ry]= -149.5761428352306 Etot[Hartre]= -74.7880714176153 Diff= 0.6617975328555303\n",
      "Found bound state at E= -37.642706459\n",
      "Found bound state at E=  -1.803163728\n",
      "Found bound state at E=  -0.060565059\n",
      "Found bound state at E=  -0.732655501\n",
      "Found bound state at E=  -0.001671122\n",
      "adding state (0, -18.821353229424847) H with fermi= 1.0\n",
      "adding state (0, -0.9015818641334896) H with fermi= 1.0\n",
      "adding state (1, -0.36632775058303746) H with fermi= 0.6666666666666666\n",
      "Total density has weight 8.0\n",
      "Itteration 6 Etot[Ry]= -149.25266799864875 Etot[Hartre]= -74.62633399932437 Diff= 0.32347483658185183\n",
      "Found bound state at E= -37.577624490\n",
      "Found bound state at E=  -1.772231724\n",
      "Found bound state at E=  -0.042985374\n",
      "Found bound state at E=  -0.704156394\n",
      "Found bound state at E=   0.010225879\n",
      "adding state (0, -18.788812245067994) H with fermi= 1.0\n",
      "adding state (0, -0.8861158622126604) H with fermi= 1.0\n",
      "adding state (1, -0.35207819682768654) H with fermi= 0.6666666666666666\n",
      "Total density has weight 7.999999999999999\n",
      "Itteration 7 Etot[Ry]= -149.09499170269936 Etot[Hartre]= -74.54749585134968 Diff= 0.15767629594938626\n",
      "Found bound state at E= -37.546125903\n",
      "Found bound state at E=  -1.757174184\n",
      "Found bound state at E=  -0.031381550\n",
      "Found bound state at E=  -0.690226236\n",
      "Found bound state at E=   0.018571441\n",
      "adding state (0, -18.77306295128812) H with fermi= 1.0\n",
      "adding state (0, -0.8785870918782738) H with fermi= 1.0\n",
      "adding state (1, -0.3451131180636579) H with fermi= 0.6666666666666666\n",
      "Total density has weight 8.0\n",
      "Itteration 8 Etot[Ry]= -149.01867245500887 Etot[Hartre]= -74.50933622750443 Diff= 0.07631924769049192\n",
      "Found bound state at E= -37.530859713\n",
      "Found bound state at E=  -1.749821263\n",
      "Found bound state at E=  -0.023471181\n",
      "Found bound state at E=  -0.683397479\n",
      "Found bound state at E=   0.024629933\n",
      "adding state (0, -18.765429856379292) H with fermi= 1.0\n",
      "adding state (0, -0.8749106316760735) H with fermi= 1.0\n",
      "adding state (1, -0.34169873937952905) H with fermi= 0.6666666666666666\n",
      "Total density has weight 8.000000000000002\n",
      "Itteration 9 Etot[Ry]= -148.9815685469036 Etot[Hartre]= -74.4907842734518 Diff= 0.03710390810527997\n",
      "Found bound state at E= -37.523458642\n",
      "Found bound state at E=  -1.746219538\n",
      "Found bound state at E=  -0.018008106\n",
      "Found bound state at E=  -0.680040305\n",
      "Found bound state at E=   0.029102768\n",
      "adding state (0, -18.761729321074085) H with fermi= 1.0\n",
      "adding state (0, -0.8731097689556807) H with fermi= 1.0\n",
      "adding state (1, -0.34002015231036026) H with fermi= 0.6666666666666666\n",
      "Total density has weight 8.0\n",
      "Itteration 10 Etot[Ry]= -148.96348410766186 Etot[Hartre]= -74.48174205383093 Diff= 0.018084439241732753\n",
      "Found bound state at E= -37.519869833\n",
      "Found bound state at E=  -1.744449724\n",
      "Found bound state at E=  -0.014233476\n",
      "Found bound state at E=  -0.678385001\n",
      "Found bound state at E=   0.032424891\n",
      "adding state (0, -18.759934916528586) H with fermi= 1.0\n",
      "adding state (0, -0.8722248620004903) H with fermi= 1.0\n",
      "adding state (1, -0.3391925003879844) H with fermi= 0.6666666666666666\n",
      "Total density has weight 8.0\n",
      "Itteration 11 Etot[Ry]= -148.95464861531838 Etot[Hartre]= -74.47732430765919 Diff= 0.008835492343479245\n",
      "Found bound state at E= -37.518129473\n",
      "Found bound state at E=  -1.743577667\n",
      "Found bound state at E=  -0.011645308\n",
      "Found bound state at E=  -0.677566752\n",
      "Found bound state at E=   0.034889152\n",
      "adding state (0, -18.759064736460168) H with fermi= 1.0\n",
      "adding state (0, -0.8717888334082475) H with fermi= 1.0\n",
      "adding state (1, -0.33878337599178465) H with fermi= 0.6666666666666666\n",
      "Total density has weight 8.0\n",
      "Itteration 12 Etot[Ry]= -148.95032344415273 Etot[Hartre]= -74.47516172207636 Diff= 0.00432517116564668\n",
      "Found bound state at E= -37.517285444\n",
      "Found bound state at E=  -1.743146981\n",
      "Found bound state at E=  -0.009893037\n",
      "Found bound state at E=  -0.677161434\n",
      "Found bound state at E=   0.036705087\n",
      "adding state (0, -18.758642721916306) H with fermi= 1.0\n",
      "adding state (0, -0.8715734905429611) H with fermi= 1.0\n",
      "adding state (1, -0.3385807172037202) H with fermi= 0.6666666666666666\n",
      "Total density has weight 7.999999999999998\n",
      "Itteration 13 Etot[Ry]= -148.94820274942776 Etot[Hartre]= -74.47410137471388 Diff= 0.002120694724965233\n",
      "Found bound state at E= -37.516876060\n",
      "Found bound state at E=  -1.742933892\n",
      "Found bound state at E=  -0.008725080\n",
      "Found bound state at E=  -0.676960340\n",
      "Found bound state at E=   0.038029229\n",
      "adding state (0, -18.75843803020282) H with fermi= 1.0\n",
      "adding state (0, -0.8714669461000342) H with fermi= 1.0\n",
      "adding state (1, -0.3384801701752102) H with fermi= 0.6666666666666666\n",
      "Total density has weight 8.0\n",
      "Itteration 14 Etot[Ry]= -148.9471615892203 Etot[Hartre]= -74.47358079461014 Diff= 0.0010411602074782422\n",
      "Found bound state at E= -37.516677445\n",
      "Found bound state at E=  -1.742828319\n",
      "Found bound state at E=  -0.007959815\n",
      "Found bound state at E=  -0.676860453\n",
      "Found bound state at E=   0.038981762\n",
      "adding state (0, -18.75833872232574) H with fermi= 1.0\n",
      "adding state (0, -0.8714141595591143) H with fermi= 1.0\n",
      "adding state (1, -0.33843022630985936) H with fermi= 0.6666666666666666\n",
      "Total density has weight 8.0\n",
      "Itteration 15 Etot[Ry]= -148.94664990988386 Etot[Hartre]= -74.47332495494193 Diff= 0.0005116793364265959\n",
      "Found bound state at E= -37.516581039\n",
      "Found bound state at E=  -1.742775958\n",
      "Found bound state at E=  -0.007467222\n"
     ]
    },
    {
     "name": "stdout",
     "output_type": "stream",
     "text": [
      "Found bound state at E=  -0.676810792\n",
      "Found bound state at E=   0.039656201\n",
      "adding state (0, -18.75829051966772) H with fermi= 1.0\n",
      "adding state (0, -0.8713879791252943) H with fermi= 1.0\n",
      "adding state (1, -0.3384053958563243) H with fermi= 0.6666666666666666\n",
      "Total density has weight 8.0\n",
      "Itteration 16 Etot[Ry]= -148.94639820419718 Etot[Hartre]= -74.47319910209859 Diff= 0.0002517056866793155\n",
      "Found bound state at E= -37.516534216\n",
      "Found bound state at E=  -1.742749970\n",
      "Found bound state at E=  -0.007155758\n",
      "Found bound state at E=  -0.676786088\n",
      "Found bound state at E=   0.040125405\n",
      "adding state (0, -18.758267107853968) H with fermi= 1.0\n",
      "adding state (0, -0.8713749851260902) H with fermi= 1.0\n",
      "adding state (1, -0.33839304389321834) H with fermi= 0.6666666666666666\n",
      "Total density has weight 8.000000000000002\n",
      "Itteration 17 Etot[Ry]= -148.9462743114887 Etot[Hartre]= -74.47313715574435 Diff= 0.00012389270847279477\n",
      "Found bound state at E= -37.516511451\n",
      "Found bound state at E=  -1.742737061\n",
      "Found bound state at E=  -0.006962274\n",
      "Found bound state at E=  -0.676773790\n",
      "Found bound state at E=   0.040445697\n",
      "adding state (0, -18.758255725456358) H with fermi= 1.0\n",
      "adding state (0, -0.8713685306335658) H with fermi= 1.0\n",
      "adding state (1, -0.3383868950628522) H with fermi= 0.6666666666666666\n",
      "Total density has weight 8.0\n",
      "Itteration 18 Etot[Ry]= -148.94621324762886 Etot[Hartre]= -74.47310662381443 Diff= 6.106385984594453e-05\n",
      "Found bound state at E= -37.516500375\n",
      "Found bound state at E=  -1.742730650\n",
      "Found bound state at E=  -0.006844169\n",
      "Found bound state at E=  -0.676767670\n",
      "Found bound state at E=   0.040659985\n",
      "adding state (0, -18.758250187667187) H with fermi= 1.0\n",
      "adding state (0, -0.8713653250013946) H with fermi= 1.0\n",
      "adding state (1, -0.3383838350643333) H with fermi= 0.6666666666666666\n",
      "Total density has weight 7.999999999999999\n",
      "Itteration 19 Etot[Ry]= -148.94618319477536 Etot[Hartre]= -74.47309159738768 Diff= 3.005285350354825e-05\n",
      "Found bound state at E= -37.516494972\n",
      "Found bound state at E=  -1.742727456\n",
      "Found bound state at E=  -0.006773303\n",
      "Found bound state at E=  -0.676764615\n",
      "Found bound state at E=   0.040800370\n",
      "adding state (0, -18.75824748613015) H with fermi= 1.0\n",
      "adding state (0, -0.8713637281598529) H with fermi= 1.0\n",
      "adding state (1, -0.338382307646775) H with fermi= 0.6666666666666666\n",
      "Total density has weight 8.0\n",
      "Itteration 20 Etot[Ry]= -148.94616833526595 Etot[Hartre]= -74.47308416763298 Diff= 1.4859509406051075e-05\n",
      "Found bound state at E= -37.516492331\n",
      "Found bound state at E=  -1.742725863\n",
      "Found bound state at E=  -0.006731508\n",
      "Found bound state at E=  -0.676763089\n",
      "Found bound state at E=   0.040890331\n",
      "adding state (0, -18.758246165674624) H with fermi= 1.0\n",
      "adding state (0, -0.8713629316538264) H with fermi= 1.0\n",
      "adding state (1, -0.3383815442527216) H with fermi= 0.6666666666666666\n",
      "Total density has weight 8.0\n",
      "Itteration 21 Etot[Ry]= -148.9461609560717 Etot[Hartre]= -74.47308047803585 Diff= 7.379194244094833e-06\n",
      "Found bound state at E= -37.516491042\n",
      "Found bound state at E=  -1.742725072\n",
      "Found bound state at E=  -0.006707281\n",
      "Found bound state at E=  -0.676762329\n",
      "Found bound state at E=   0.040946663\n",
      "adding state (0, -18.758245521167776) H with fermi= 1.0\n",
      "adding state (0, -0.87136253599643) H with fermi= 1.0\n",
      "adding state (1, -0.3383811643915223) H with fermi= 0.6666666666666666\n",
      "Total density has weight 8.0\n",
      "Itteration 22 Etot[Ry]= -148.94615732134224 Etot[Hartre]= -74.47307866067112 Diff= 3.6347294667393726e-06\n",
      "Found bound state at E= -37.516490411\n",
      "Found bound state at E=  -1.742724678\n",
      "Found bound state at E=  -0.006693477\n",
      "Found bound state at E=  -0.676761950\n",
      "Found bound state at E=   0.040981100\n",
      "adding state (0, -18.758245205713045) H with fermi= 1.0\n",
      "adding state (0, -0.87136233894534) H with fermi= 1.0\n",
      "adding state (1, -0.3383809748765246) H with fermi= 0.6666666666666666\n",
      "Total density has weight 8.0\n",
      "Itteration 23 Etot[Ry]= -148.94615552572526 Etot[Hartre]= -74.47307776286263 Diff= 1.7956169813260203e-06\n",
      "Found bound state at E= -37.516490101\n",
      "Found bound state at E=  -1.742724481\n",
      "Found bound state at E=  -0.006685748\n",
      "Found bound state at E=  -0.676761760\n",
      "Found bound state at E=   0.041001632\n",
      "adding state (0, -18.758245050724916) H with fermi= 1.0\n",
      "adding state (0, -0.8713622404184704) H with fermi= 1.0\n",
      "adding state (1, -0.3383808799500568) H with fermi= 0.6666666666666666\n",
      "Total density has weight 7.999999999999998\n",
      "Itteration 24 Etot[Ry]= -148.94615462720077 Etot[Hartre]= -74.47307731360038 Diff= 8.985244903669809e-07\n",
      "Found bound state at E= -37.516489950\n",
      "Found bound state at E=  -1.742724383\n",
      "Found bound state at E=  -0.006681496\n",
      "Found bound state at E=  -0.676761666\n",
      "Found bound state at E=   0.041013558\n",
      "adding state (0, -18.75824497512003) H with fermi= 1.0\n",
      "adding state (0, -0.8713621917478453) H with fermi= 1.0\n",
      "adding state (1, -0.33838083299698196) H with fermi= 0.6666666666666666\n",
      "Total density has weight 8.0\n",
      "Itteration 25 Etot[Ry]= -148.94615419225914 Etot[Hartre]= -74.47307709612957 Diff= 4.349416258264682e-07\n",
      "Found bound state at E= -37.516489875\n",
      "Found bound state at E=  -1.742724334\n",
      "Found bound state at E=  -0.006679196\n",
      "Found bound state at E=  -0.676761618\n",
      "Found bound state at E=   0.041020304\n",
      "adding state (0, -18.75824493757038) H with fermi= 1.0\n",
      "adding state (0, -0.8713621671071636) H with fermi= 1.0\n",
      "adding state (1, -0.33838080917667657) H with fermi= 0.6666666666666666\n",
      "Total density has weight 8.0\n",
      "Itteration 26 Etot[Ry]= -148.9461539711602 Etot[Hartre]= -74.4730769855801 Diff= 2.210989578088629e-07\n",
      "Found bound state at E= -37.516489838\n",
      "Found bound state at E=  -1.742724309\n",
      "Found bound state at E=  -0.006677974\n",
      "Found bound state at E=  -0.676761594\n",
      "Found bound state at E=   0.041024020\n",
      "adding state (0, -18.75824491902368) H with fermi= 1.0\n",
      "adding state (0, -0.8713621547357939) H with fermi= 1.0\n",
      "adding state (1, -0.33838079719815584) H with fermi= 0.6666666666666666\n",
      "Total density has weight 8.0\n",
      "Itteration 27 Etot[Ry]= -148.94615386155297 Etot[Hartre]= -74.47307693077649 Diff= 1.0960721397168527e-07\n",
      "Found bound state at E= -37.516489819\n",
      "Found bound state at E=  -1.742724297\n",
      "Found bound state at E=  -0.006677334\n",
      "Found bound state at E=  -0.676761582\n",
      "Found bound state at E=   0.041026017\n",
      "adding state (0, -18.758244909714534) H with fermi= 1.0\n",
      "adding state (0, -0.8713621483890656) H with fermi= 1.0\n",
      "adding state (1, -0.3383807910376456) H with fermi= 0.6666666666666666\n",
      "Total density has weight 8.000000000000002\n",
      "Itteration 28 Etot[Ry]= -148.94615380290628 Etot[Hartre]= -74.47307690145314 Diff= 5.864669105903886e-08\n"
     ]
    },
    {
     "data": {
      "image/png": "[encoded data removed]",
      "text/plain": [
       "<Figure size 432x288 with 1 Axes>"
      ]
     },
     "metadata": {
      "needs_background": "light"
     },
     "output_type": "display_data"
    }
   ],
   "source": [
    "R = linspace(1e-8,20,2**14+1)\n",
    "Zatom = 8\n",
    "mixr = 0.5\n",
    "\n",
    "E0=-1.2*Zatom**2\n",
    "Eshift=0.5 # sometimes energies can be positive!!!                                                                                                                        \n",
    "Esearch = -logspace(-4,log10(-E0+Eshift),200)[::-1] + Eshift\n",
    "nmax = 3\n",
    "\n",
    "exc = ExchangeCorrelation()\n",
    "Uks = -2*ones(len(R))\n",
    "Eold = 0\n",
    "Etol = 1e-7\n",
    "\n",
    "for itt in range(100):\n",
    "    Bnd=[]\n",
    "    for l in range(nmax-1):\n",
    "        Bnd += FindBoundStates(R,l,nmax-l,Esearch,Uks)\n",
    "    \n",
    "    Bnd = sorted(Bnd, key=cmpKey)\n",
    "    rho_new, Ebs = ChargeDensity(Bnd,R,Zatom,Uks)\n",
    "    \n",
    "    if itt==0:\n",
    "        rho = rho_new\n",
    "    else:\n",
    "        rho = rho_new * mixr + (1-mixr)*rho_old\n",
    "    rho_old = copy(rho)\n",
    "    \n",
    "    U2 = HartreeU(R, rho, Zatom)\n",
    "\n",
    "    Vxc = [2*exc.Vc(rs(rh)) + 2*exc.Vx(rs(rh)) for rh in rho]   \n",
    "    \n",
    "    Uks = U2 - 2*Zatom + Vxc*R\n",
    "\n",
    "    # Total energy\n",
    "    ExcVxc = [2*exc.EcVc(rs(rh)) + 2*exc.ExVx(rs(rh)) for rh in rho]  \n",
    "    pot = (ExcVxc*R - 0.5*U2)*R*rho*4*pi\n",
    "    epot = integrate.simps(pot, x=R)\n",
    "    Etot = epot + Ebs\n",
    "    \n",
    "    print('Total density has weight', integrate.simps(rho*(4*pi*R**2),x=R))\n",
    "    #print('Total Energy=', Etot/2.)\n",
    "    \n",
    "    print('Itteration', itt, 'Etot[Ry]=', Etot, 'Etot[Hartre]=', Etot/2, 'Diff=', abs(Etot-Eold))\n",
    "\n",
    "    \n",
    "    if  itt>0 and abs(Etot-Eold)< Etol: break\n",
    "    Eold = Etot\n",
    "    \n",
    "    #plot(R, U2, label='U-hartree')\n",
    "    #plot(R, Vxc, label='Vxc')\n",
    "    #plot(R, Uks, label='Uks')\n",
    "    #show()\n",
    "    \n",
    "plot(R,rho*(4*pi*R**2))\n",
    "xlim([0,5])\n",
    "show()"
   ]
  },
  {
   "cell_type": "code",
   "execution_count": null,
   "metadata": {},
   "outputs": [],
   "source": []
  },
  {
   "cell_type": "code",
   "execution_count": null,
   "metadata": {},
   "outputs": [],
   "source": []
  }
 ],
 "metadata": {
  "kernelspec": {
   "display_name": "Python 3",
   "language": "python",
   "name": "python3"
  },
  "language_info": {
   "codemirror_mode": {
    "name": "ipython",
    "version": 3
   },
   "file_extension": ".py",
   "mimetype": "text/x-python",
   "name": "python",
   "nbconvert_exporter": "python",
   "pygments_lexer": "ipython3",
   "version": "3.8.6"
  }
 },
 "nbformat": 4,
 "nbformat_minor": 2
}
